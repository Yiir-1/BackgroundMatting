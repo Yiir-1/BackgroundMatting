{
 "cells": [
  {
   "cell_type": "code",
   "execution_count": null,
   "metadata": {},
   "outputs": [],
   "source": [
    "import torch\n",
    "import torchvision.models as models\n",
    "from model.autoencoder import Autoencoder\n",
    "from torch import nn\n",
    "from torch.cuda.amp import autocast, GradScaler\n",
    "from torch.utils.data import DataLoader\n",
    "from tqdm import tqdm\n",
    "from torchvision import transforms as T\n",
    "from data_path import DATA_PATH\n",
    "from dataset import ImagesDataset, ZipDataset, VideoDataset, SampleDataset,ImagesDataset_addname\n",
    "import matplotlib.pyplot as plt\n",
    "from sklearn.decomposition import KernelPCA\n",
    "from sklearn.manifold import TSNE\n",
    "from sklearn.cluster import MiniBatchKMeans\n",
    "import numpy as np\n",
    "import pandas as pd\n",
    "# 加载预训练的 ResNet 模型\n",
    "resnet = models.resnet50(pretrained=True)"
   ]
  },
  {
   "cell_type": "code",
   "execution_count": null,
   "metadata": {},
   "outputs": [],
   "source": [
    "\n",
    "dataset_train_bg = ImagesDataset_addname('./evaldata/bgr', mode='RGB', transforms=T.Compose([\n",
    "    T.Resize((512, 512)),\n",
    "    T.ToTensor()\n",
    "]))\n",
    "dataloader_train_bg = DataLoader(dataset_train_bg,\n",
    "                                 shuffle=False,\n",
    "                                 batch_size=4,\n",
    "                                 num_workers=0,\n",
    "                                 pin_memory=True)\n",
    "\n"
   ]
  },
  {
   "cell_type": "code",
   "execution_count": null,
   "metadata": {},
   "outputs": [],
   "source": []
  },
  {
   "cell_type": "code",
   "execution_count": null,
   "metadata": {},
   "outputs": [],
   "source": [
    "def inference(dataloader, model, batch_size=64):\n",
    "    latents = []\n",
    "    names=[]\n",
    "    for i, (x,name) in enumerate(dataloader_train_bg):\n",
    "        x = torch.FloatTensor(x)\n",
    "        vec, img = model(x.cuda())\n",
    "        # import pdb;pdb.set_trace()\n",
    "        for j in range(0,len(name)):\n",
    "            names.append(name[j])\n",
    "        if i == 0:\n",
    "            latents = vec.view(img.size()[0], -1).cpu().detach().numpy()\n",
    "        else:\n",
    "            latents = np.concatenate((latents, vec.view(img.size()[0], -1).cpu().detach().numpy()), axis=0)\n",
    "    print('Latents Shape:', latents.shape)\n",
    "    return latents,names"
   ]
  },
  {
   "cell_type": "code",
   "execution_count": null,
   "metadata": {},
   "outputs": [],
   "source": [
    "\n",
    "resnet.eval()\n",
    "\n",
    "# 預測答案\n",
    "latents,names = inference(dataset_train_bg, model=resnet)\n",
    "transformer = KernelPCA(n_components=3, kernel='rbf', n_jobs=-1)\n",
    "kpca = transformer.fit_transform(latents)\n"
   ]
  }
 ],
 "metadata": {
  "language_info": {
   "name": "python"
  },
  "orig_nbformat": 4
 },
 "nbformat": 4,
 "nbformat_minor": 2
}
