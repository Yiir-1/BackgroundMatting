{
 "cells": [
  {
   "cell_type": "code",
   "execution_count": 1,
   "id": "582a27bf-4536-4092-b447-d4911553bd57",
   "metadata": {},
   "outputs": [
    {
     "ename": "ModuleNotFoundError",
     "evalue": "No module named 'torchvision'",
     "output_type": "error",
     "traceback": [
      "\u001b[1;31m---------------------------------------------------------------------------\u001b[0m",
      "\u001b[1;31mModuleNotFoundError\u001b[0m                       Traceback (most recent call last)",
      "\u001b[1;32m<ipython-input-1-a212571f4dec>\u001b[0m in \u001b[0;36m<module>\u001b[1;34m\u001b[0m\n\u001b[1;32m----> 1\u001b[1;33m \u001b[1;32mfrom\u001b[0m \u001b[0mmodel\u001b[0m\u001b[1;33m.\u001b[0m\u001b[0mautoencoder\u001b[0m \u001b[1;32mimport\u001b[0m \u001b[0mAutoencoder\u001b[0m\u001b[1;33m\u001b[0m\u001b[1;33m\u001b[0m\u001b[0m\n\u001b[0m\u001b[0;32m      2\u001b[0m \u001b[1;32mimport\u001b[0m \u001b[0mtorch\u001b[0m\u001b[1;33m\u001b[0m\u001b[1;33m\u001b[0m\u001b[0m\n\u001b[0;32m      3\u001b[0m \u001b[1;32mfrom\u001b[0m \u001b[0mtorch\u001b[0m \u001b[1;32mimport\u001b[0m \u001b[0mnn\u001b[0m\u001b[1;33m\u001b[0m\u001b[1;33m\u001b[0m\u001b[0m\n\u001b[0;32m      4\u001b[0m \u001b[1;32mfrom\u001b[0m \u001b[0mtorch\u001b[0m\u001b[1;33m.\u001b[0m\u001b[0mcuda\u001b[0m\u001b[1;33m.\u001b[0m\u001b[0mamp\u001b[0m \u001b[1;32mimport\u001b[0m \u001b[0mautocast\u001b[0m\u001b[1;33m,\u001b[0m \u001b[0mGradScaler\u001b[0m\u001b[1;33m\u001b[0m\u001b[1;33m\u001b[0m\u001b[0m\n\u001b[0;32m      5\u001b[0m \u001b[1;32mfrom\u001b[0m \u001b[0mtorch\u001b[0m\u001b[1;33m.\u001b[0m\u001b[0mutils\u001b[0m\u001b[1;33m.\u001b[0m\u001b[0mdata\u001b[0m \u001b[1;32mimport\u001b[0m \u001b[0mDataLoader\u001b[0m\u001b[1;33m\u001b[0m\u001b[1;33m\u001b[0m\u001b[0m\n",
      "\u001b[1;32md:\\project\\BackgroundMatting\\model\\__init__.py\u001b[0m in \u001b[0;36m<module>\u001b[1;34m\u001b[0m\n\u001b[1;32m----> 1\u001b[1;33m \u001b[1;32mfrom\u001b[0m \u001b[1;33m.\u001b[0m\u001b[0mmodel\u001b[0m \u001b[1;32mimport\u001b[0m \u001b[0mBase\u001b[0m\u001b[1;33m,\u001b[0m \u001b[0mMattingBase\u001b[0m\u001b[1;33m,\u001b[0m \u001b[0mMattingRefine_firststage\u001b[0m\u001b[1;33m,\u001b[0m\u001b[0mMattingRefine_secondstage\u001b[0m\u001b[1;33m,\u001b[0m\u001b[0mMattingRefine\u001b[0m\u001b[1;33m\u001b[0m\u001b[1;33m\u001b[0m\u001b[0m\n\u001b[0m\u001b[0;32m      2\u001b[0m \u001b[1;32mfrom\u001b[0m \u001b[1;33m.\u001b[0m\u001b[0mmoe\u001b[0m \u001b[1;32mimport\u001b[0m \u001b[0mMoE\u001b[0m\u001b[1;33m\u001b[0m\u001b[1;33m\u001b[0m\u001b[0m\n\u001b[0;32m      3\u001b[0m \u001b[1;32mfrom\u001b[0m \u001b[1;33m.\u001b[0m\u001b[0mrefine_moe_kmeans\u001b[0m \u001b[1;32mimport\u001b[0m \u001b[0mMoE_kmeans\u001b[0m\u001b[1;33m\u001b[0m\u001b[1;33m\u001b[0m\u001b[0m\n",
      "\u001b[1;32md:\\project\\BackgroundMatting\\model\\model.py\u001b[0m in \u001b[0;36m<module>\u001b[1;34m\u001b[0m\n\u001b[0;32m      1\u001b[0m \u001b[1;32mimport\u001b[0m \u001b[0mtorch\u001b[0m\u001b[1;33m\u001b[0m\u001b[1;33m\u001b[0m\u001b[0m\n\u001b[0;32m      2\u001b[0m \u001b[1;32mfrom\u001b[0m \u001b[0mtorch\u001b[0m \u001b[1;32mimport\u001b[0m \u001b[0mnn\u001b[0m\u001b[1;33m\u001b[0m\u001b[1;33m\u001b[0m\u001b[0m\n\u001b[1;32m----> 3\u001b[1;33m \u001b[1;32mfrom\u001b[0m \u001b[0mtorchvision\u001b[0m\u001b[1;33m.\u001b[0m\u001b[0mmodels\u001b[0m\u001b[1;33m.\u001b[0m\u001b[0msegmentation\u001b[0m\u001b[1;33m.\u001b[0m\u001b[0mdeeplabv3\u001b[0m \u001b[1;32mimport\u001b[0m \u001b[0mASPP\u001b[0m\u001b[1;33m\u001b[0m\u001b[1;33m\u001b[0m\u001b[0m\n\u001b[0m\u001b[0;32m      4\u001b[0m \u001b[1;32mfrom\u001b[0m \u001b[0mtorch\u001b[0m\u001b[1;33m.\u001b[0m\u001b[0mnn\u001b[0m \u001b[1;32mimport\u001b[0m \u001b[0mfunctional\u001b[0m \u001b[1;32mas\u001b[0m \u001b[0mF\u001b[0m\u001b[1;33m\u001b[0m\u001b[1;33m\u001b[0m\u001b[0m\n\u001b[0;32m      5\u001b[0m \u001b[1;32mfrom\u001b[0m \u001b[1;33m.\u001b[0m\u001b[0mdecoder\u001b[0m \u001b[1;32mimport\u001b[0m \u001b[0mDecoder\u001b[0m\u001b[1;33m\u001b[0m\u001b[1;33m\u001b[0m\u001b[0m\n",
      "\u001b[1;31mModuleNotFoundError\u001b[0m: No module named 'torchvision'"
     ]
    }
   ],
   "source": [
    "from model.autoencoder import Autoencoder\n",
    "import torch\n",
    "from torch import nn\n",
    "from torch.cuda.amp import autocast, GradScaler\n",
    "from torch.utils.data import DataLoader\n",
    "from tqdm import tqdm\n",
    "from torchvision import transforms as T\n",
    "from data_path import DATA_PATH\n",
    "from dataset import ImagesDataset, ZipDataset, VideoDataset, SampleDataset,ImagesDataset_addname\n",
    "import matplotlib.pyplot as plt\n",
    "from sklearn.decomposition import KernelPCA\n",
    "from sklearn.manifold import TSNE\n",
    "from sklearn.cluster import MiniBatchKMeans\n",
    "import numpy as np\n",
    "import pandas as pd"
   ]
  },
  {
   "cell_type": "code",
   "execution_count": 2,
   "id": "4107b1eb",
   "metadata": {},
   "outputs": [
    {
     "name": "stdout",
     "output_type": "stream",
     "text": [
      "Collecting torchvision\n",
      "  Using cached torchvision-0.15.2-cp38-cp38-win_amd64.whl (1.2 MB)\n",
      "Collecting torch==2.0.1\n",
      "  Downloading torch-2.0.1-cp38-cp38-win_amd64.whl (172.4 MB)\n",
      "     -------------------------------------- 172.4/172.4 MB 3.1 MB/s eta 0:00:00\n",
      "Requirement already satisfied: requests in d:\\anaconda\\lib\\site-packages (from torchvision) (2.25.1)\n",
      "Requirement already satisfied: numpy in d:\\anaconda\\lib\\site-packages (from torchvision) (1.22.3)\n",
      "Requirement already satisfied: pillow!=8.3.*,>=5.3.0 in d:\\anaconda\\lib\\site-packages (from torchvision) (10.0.0)\n",
      "Requirement already satisfied: networkx in d:\\anaconda\\lib\\site-packages (from torch==2.0.1->torchvision) (2.5)\n",
      "Requirement already satisfied: jinja2 in d:\\anaconda\\lib\\site-packages (from torch==2.0.1->torchvision) (2.11.3)\n",
      "Requirement already satisfied: sympy in d:\\anaconda\\lib\\site-packages (from torch==2.0.1->torchvision) (1.8)\n",
      "Requirement already satisfied: filelock in d:\\anaconda\\lib\\site-packages (from torch==2.0.1->torchvision) (3.0.12)\n",
      "Requirement already satisfied: typing-extensions in d:\\anaconda\\lib\\site-packages (from torch==2.0.1->torchvision) (4.6.0)\n",
      "Requirement already satisfied: urllib3<1.27,>=1.21.1 in d:\\anaconda\\lib\\site-packages (from requests->torchvision) (1.26.4)\n",
      "Requirement already satisfied: idna<3,>=2.5 in d:\\anaconda\\lib\\site-packages (from requests->torchvision) (2.10)\n",
      "Requirement already satisfied: certifi>=2017.4.17 in d:\\anaconda\\lib\\site-packages (from requests->torchvision) (2020.12.5)\n",
      "Requirement already satisfied: chardet<5,>=3.0.2 in d:\\anaconda\\lib\\site-packages (from requests->torchvision) (4.0.0)\n",
      "Requirement already satisfied: MarkupSafe>=0.23 in d:\\anaconda\\lib\\site-packages (from jinja2->torch==2.0.1->torchvision) (1.1.1)\n",
      "Requirement already satisfied: decorator>=4.3.0 in d:\\anaconda\\lib\\site-packages (from networkx->torch==2.0.1->torchvision) (5.0.6)\n",
      "Requirement already satisfied: mpmath>=0.19 in d:\\anaconda\\lib\\site-packages (from sympy->torch==2.0.1->torchvision) (1.2.1)\n",
      "Installing collected packages: torch, torchvision\n",
      "  Attempting uninstall: torch\n",
      "    Found existing installation: torch 1.13.1\n",
      "    Uninstalling torch-1.13.1:\n",
      "      Successfully uninstalled torch-1.13.1\n"
     ]
    },
    {
     "name": "stderr",
     "output_type": "stream",
     "text": [
      "ERROR: Could not install packages due to an OSError: [WinError 5] 拒绝访问。: 'D:\\\\Anaconda\\\\Lib\\\\site-packages\\\\~orch\\\\lib\\\\asmjit.dll'\n",
      "Consider using the `--user` option or check the permissions.\n",
      "\n",
      "\n",
      "[notice] A new release of pip is available: 23.0.1 -> 23.2.1\n",
      "[notice] To update, run: python.exe -m pip install --upgrade pip\n"
     ]
    }
   ],
   "source": [
    "!pip install torchvision"
   ]
  },
  {
   "cell_type": "code",
   "execution_count": 49,
   "id": "234ee2af-ca6d-4e53-bbdc-54e07022b7a2",
   "metadata": {},
   "outputs": [],
   "source": [
    "import os\n",
    "import random\n",
    "import shutil\n",
    "from shutil import copy2\n",
    "trainfiles = os.listdir('./Backgrounds')\n",
    "num_train = len(trainfiles)\n",
    "index_list = list(range(num_train))\n",
    "random.shuffle(index_list)\n",
    "num = 0\n",
    "trainDir = '/hy-tmp/BackgroundMattingV2/Background/train'\n",
    "validDir = '/hy-tmp/BackgroundMattingV2/Background/valid'\n",
    "for i in index_list:\n",
    "    fileName = os.path.join('/hy-tmp/BackgroundMattingV2/Backgrounds',trainfiles[i])\n",
    "    if num < num_train*0.7:\n",
    "        copy2(fileName, trainDir)\n",
    "    else:\n",
    "        copy2(fileName, validDir)\n",
    "    num += 1"
   ]
  },
  {
   "cell_type": "code",
   "execution_count": null,
   "id": "cf3a8a64",
   "metadata": {},
   "outputs": [],
   "source": [
    "\n",
    "dataset_train_bg = ImagesDataset_addname('./evaldata/bgr', mode='RGB', transforms=T.Compose([\n",
    "    T.Resize((512, 512)),\n",
    "    T.ToTensor()\n",
    "]))\n",
    "dataloader_train_bg = DataLoader(dataset_train_bg,\n",
    "                                 shuffle=False,\n",
    "                                 batch_size=4,\n",
    "                                 num_workers=0,\n",
    "                                 pin_memory=True)\n",
    "\n"
   ]
  },
  {
   "cell_type": "code",
   "execution_count": 50,
   "id": "474b71a8-4f2e-4077-a908-6db6811e939c",
   "metadata": {},
   "outputs": [],
   "source": [
    "def inference(dataloader, model, batch_size=64):\n",
    "    latents = []\n",
    "    names=[]\n",
    "    for i, (x,name) in enumerate(dataloader_train_bg):\n",
    "        x = torch.FloatTensor(x)\n",
    "        vec, img = model(x.cuda())\n",
    "        # import pdb;pdb.set_trace()\n",
    "        for j in range(0,len(name)):\n",
    "            names.append(name[j])\n",
    "        if i == 0:\n",
    "            latents = vec.view(img.size()[0], -1).cpu().detach().numpy()\n",
    "        else:\n",
    "            latents = np.concatenate((latents, vec.view(img.size()[0], -1).cpu().detach().numpy()), axis=0)\n",
    "    print('Latents Shape:', latents.shape)\n",
    "    return latents,names"
   ]
  },
  {
   "cell_type": "code",
   "execution_count": 54,
   "id": "78c9a906-b4b0-47be-8822-b0bc032df778",
   "metadata": {},
   "outputs": [
    {
     "name": "stdout",
     "output_type": "stream",
     "text": [
      "Latents Shape: (2400, 49152)\n"
     ]
    }
   ],
   "source": [
    "\n",
    "# 搭建 autoencoder 模型\n",
    "model = Autoencoder().cuda()\n",
    "model.load_state_dict(torch.load(\"./checkpoint/kmeans/epoch-9-loss0.19731813669204712.pth\"), strict=False)\n",
    "model.eval()\n",
    "\n",
    "# 預測答案\n",
    "latents,names = inference(dataset_train_bg, model=model)\n",
    "transformer = KernelPCA(n_components=3, kernel='rbf', n_jobs=-1)\n",
    "kpca = transformer.fit_transform(latents)\n"
   ]
  },
  {
   "cell_type": "code",
   "execution_count": 55,
   "id": "edd37821-10b3-4836-b338-b7584fa7c9b8",
   "metadata": {},
   "outputs": [],
   "source": [
    "df = pd.DataFrame(names)"
   ]
  },
  {
   "cell_type": "code",
   "execution_count": 56,
   "id": "7bc655db-fe87-432c-8be0-7494e742ad95",
   "metadata": {},
   "outputs": [
    {
     "data": {
      "text/plain": [
       "(2400, 3)"
      ]
     },
     "execution_count": 56,
     "metadata": {},
     "output_type": "execute_result"
    }
   ],
   "source": [
    "kpca.shape"
   ]
  },
  {
   "cell_type": "code",
   "execution_count": 57,
   "id": "86f1580c-74f7-49ed-9d2b-daa7966b607c",
   "metadata": {},
   "outputs": [],
   "source": [
    "# Clustering\n",
    "mbkmeans = MiniBatchKMeans(n_clusters=3, random_state=0).fit(kpca)\n",
    "centers = mbkmeans.cluster_centers_\n"
   ]
  },
  {
   "cell_type": "code",
   "execution_count": 58,
   "id": "a0307be7-9778-4fe8-971e-ed2560108b5f",
   "metadata": {},
   "outputs": [
    {
     "data": {
      "text/plain": [
       "(3, 3)"
      ]
     },
     "execution_count": 58,
     "metadata": {},
     "output_type": "execute_result"
    }
   ],
   "source": [
    "centers.shape"
   ]
  },
  {
   "cell_type": "code",
   "execution_count": 59,
   "id": "48bfc1ed-f7a4-42ce-9195-6f3e58618040",
   "metadata": {},
   "outputs": [
    {
     "data": {
      "text/plain": [
       "array([1, 1, 1, ..., 0, 1, 0], dtype=int32)"
      ]
     },
     "execution_count": 59,
     "metadata": {},
     "output_type": "execute_result"
    }
   ],
   "source": [
    "labels_new = mbkmeans.partial_fit(kpca).labels_\n",
    "labels_new"
   ]
  },
  {
   "cell_type": "code",
   "execution_count": 9,
   "id": "50b11580-d4a8-4c3b-9c99-0e955d9ab739",
   "metadata": {},
   "outputs": [],
   "source": [
    "np.save(\"center1.npy\",centers)"
   ]
  },
  {
   "cell_type": "code",
   "execution_count": 60,
   "id": "7df4a634-f63f-44d6-bc69-92fc8e512770",
   "metadata": {},
   "outputs": [],
   "source": [
    "df['name']=names\n",
    "df['label']=labels_new"
   ]
  },
  {
   "cell_type": "code",
   "execution_count": 61,
   "id": "f3576342-1aa8-42df-b19a-59ee641f333d",
   "metadata": {},
   "outputs": [],
   "source": [
    "df.to_csv('bg_clusters_train.csv')"
   ]
  },
  {
   "cell_type": "code",
   "execution_count": 62,
   "id": "ea919b81-28f3-40d4-ae37-6d2d18676824",
   "metadata": {},
   "outputs": [
    {
     "data": {
      "text/html": [
       "<div>\n",
       "<style scoped>\n",
       "    .dataframe tbody tr th:only-of-type {\n",
       "        vertical-align: middle;\n",
       "    }\n",
       "\n",
       "    .dataframe tbody tr th {\n",
       "        vertical-align: top;\n",
       "    }\n",
       "\n",
       "    .dataframe thead th {\n",
       "        text-align: right;\n",
       "    }\n",
       "</style>\n",
       "<table border=\"1\" class=\"dataframe\">\n",
       "  <thead>\n",
       "    <tr style=\"text-align: right;\">\n",
       "      <th></th>\n",
       "      <th>0</th>\n",
       "      <th>name</th>\n",
       "      <th>label</th>\n",
       "    </tr>\n",
       "  </thead>\n",
       "  <tbody>\n",
       "    <tr>\n",
       "      <th>0</th>\n",
       "      <td>./Background/train/airport-00001.jpg</td>\n",
       "      <td>./Background/train/airport-00001.jpg</td>\n",
       "      <td>1</td>\n",
       "    </tr>\n",
       "    <tr>\n",
       "      <th>1</th>\n",
       "      <td>./Background/train/airport-00002.jpg</td>\n",
       "      <td>./Background/train/airport-00002.jpg</td>\n",
       "      <td>1</td>\n",
       "    </tr>\n",
       "    <tr>\n",
       "      <th>2</th>\n",
       "      <td>./Background/train/airport-00005.jpg</td>\n",
       "      <td>./Background/train/airport-00005.jpg</td>\n",
       "      <td>1</td>\n",
       "    </tr>\n",
       "    <tr>\n",
       "      <th>3</th>\n",
       "      <td>./Background/train/airport-00007.jpg</td>\n",
       "      <td>./Background/train/airport-00007.jpg</td>\n",
       "      <td>1</td>\n",
       "    </tr>\n",
       "    <tr>\n",
       "      <th>4</th>\n",
       "      <td>./Background/train/airport-00012.jpg</td>\n",
       "      <td>./Background/train/airport-00012.jpg</td>\n",
       "      <td>0</td>\n",
       "    </tr>\n",
       "    <tr>\n",
       "      <th>...</th>\n",
       "      <td>...</td>\n",
       "      <td>...</td>\n",
       "      <td>...</td>\n",
       "    </tr>\n",
       "    <tr>\n",
       "      <th>2395</th>\n",
       "      <td>./Background/train/workplace-00146.jpg</td>\n",
       "      <td>./Background/train/workplace-00146.jpg</td>\n",
       "      <td>0</td>\n",
       "    </tr>\n",
       "    <tr>\n",
       "      <th>2396</th>\n",
       "      <td>./Background/train/workplace-00149.jpg</td>\n",
       "      <td>./Background/train/workplace-00149.jpg</td>\n",
       "      <td>2</td>\n",
       "    </tr>\n",
       "    <tr>\n",
       "      <th>2397</th>\n",
       "      <td>./Background/train/workplace_interior_108.durs...</td>\n",
       "      <td>./Background/train/workplace_interior_108.durs...</td>\n",
       "      <td>0</td>\n",
       "    </tr>\n",
       "    <tr>\n",
       "      <th>2398</th>\n",
       "      <td>./Background/train/workplace_interior_135.deze...</td>\n",
       "      <td>./Background/train/workplace_interior_135.deze...</td>\n",
       "      <td>1</td>\n",
       "    </tr>\n",
       "    <tr>\n",
       "      <th>2399</th>\n",
       "      <td>./Background/train/workplace_interior_336.berg...</td>\n",
       "      <td>./Background/train/workplace_interior_336.berg...</td>\n",
       "      <td>0</td>\n",
       "    </tr>\n",
       "  </tbody>\n",
       "</table>\n",
       "<p>2400 rows × 3 columns</p>\n",
       "</div>"
      ],
      "text/plain": [
       "                                                      0  \\\n",
       "0                  ./Background/train/airport-00001.jpg   \n",
       "1                  ./Background/train/airport-00002.jpg   \n",
       "2                  ./Background/train/airport-00005.jpg   \n",
       "3                  ./Background/train/airport-00007.jpg   \n",
       "4                  ./Background/train/airport-00012.jpg   \n",
       "...                                                 ...   \n",
       "2395             ./Background/train/workplace-00146.jpg   \n",
       "2396             ./Background/train/workplace-00149.jpg   \n",
       "2397  ./Background/train/workplace_interior_108.durs...   \n",
       "2398  ./Background/train/workplace_interior_135.deze...   \n",
       "2399  ./Background/train/workplace_interior_336.berg...   \n",
       "\n",
       "                                                   name  label  \n",
       "0                  ./Background/train/airport-00001.jpg      1  \n",
       "1                  ./Background/train/airport-00002.jpg      1  \n",
       "2                  ./Background/train/airport-00005.jpg      1  \n",
       "3                  ./Background/train/airport-00007.jpg      1  \n",
       "4                  ./Background/train/airport-00012.jpg      0  \n",
       "...                                                 ...    ...  \n",
       "2395             ./Background/train/workplace-00146.jpg      0  \n",
       "2396             ./Background/train/workplace-00149.jpg      2  \n",
       "2397  ./Background/train/workplace_interior_108.durs...      0  \n",
       "2398  ./Background/train/workplace_interior_135.deze...      1  \n",
       "2399  ./Background/train/workplace_interior_336.berg...      0  \n",
       "\n",
       "[2400 rows x 3 columns]"
      ]
     },
     "execution_count": 62,
     "metadata": {},
     "output_type": "execute_result"
    }
   ],
   "source": [
    "df"
   ]
  },
  {
   "cell_type": "code",
   "execution_count": 63,
   "id": "deaaff96-866c-4ecc-95f1-ca82987089ef",
   "metadata": {},
   "outputs": [],
   "source": [
    "for i in range(2400):\n",
    "    temp=df['name'][i]\n",
    "    temp=temp.split('/')[3]\n",
    "    df.loc[i,'name']=temp"
   ]
  },
  {
   "cell_type": "code",
   "execution_count": 64,
   "id": "2d94acd5-30f8-489b-b263-04d230ed91e6",
   "metadata": {},
   "outputs": [
    {
     "data": {
      "text/html": [
       "<div>\n",
       "<style scoped>\n",
       "    .dataframe tbody tr th:only-of-type {\n",
       "        vertical-align: middle;\n",
       "    }\n",
       "\n",
       "    .dataframe tbody tr th {\n",
       "        vertical-align: top;\n",
       "    }\n",
       "\n",
       "    .dataframe thead th {\n",
       "        text-align: right;\n",
       "    }\n",
       "</style>\n",
       "<table border=\"1\" class=\"dataframe\">\n",
       "  <thead>\n",
       "    <tr style=\"text-align: right;\">\n",
       "      <th></th>\n",
       "      <th>0</th>\n",
       "      <th>name</th>\n",
       "      <th>label</th>\n",
       "    </tr>\n",
       "  </thead>\n",
       "  <tbody>\n",
       "    <tr>\n",
       "      <th>0</th>\n",
       "      <td>./Background/train/airport-00001.jpg</td>\n",
       "      <td>airport-00001.jpg</td>\n",
       "      <td>1</td>\n",
       "    </tr>\n",
       "    <tr>\n",
       "      <th>1</th>\n",
       "      <td>./Background/train/airport-00002.jpg</td>\n",
       "      <td>airport-00002.jpg</td>\n",
       "      <td>1</td>\n",
       "    </tr>\n",
       "    <tr>\n",
       "      <th>2</th>\n",
       "      <td>./Background/train/airport-00005.jpg</td>\n",
       "      <td>airport-00005.jpg</td>\n",
       "      <td>1</td>\n",
       "    </tr>\n",
       "    <tr>\n",
       "      <th>3</th>\n",
       "      <td>./Background/train/airport-00007.jpg</td>\n",
       "      <td>airport-00007.jpg</td>\n",
       "      <td>1</td>\n",
       "    </tr>\n",
       "    <tr>\n",
       "      <th>4</th>\n",
       "      <td>./Background/train/airport-00012.jpg</td>\n",
       "      <td>airport-00012.jpg</td>\n",
       "      <td>0</td>\n",
       "    </tr>\n",
       "    <tr>\n",
       "      <th>...</th>\n",
       "      <td>...</td>\n",
       "      <td>...</td>\n",
       "      <td>...</td>\n",
       "    </tr>\n",
       "    <tr>\n",
       "      <th>2395</th>\n",
       "      <td>./Background/train/workplace-00146.jpg</td>\n",
       "      <td>workplace-00146.jpg</td>\n",
       "      <td>0</td>\n",
       "    </tr>\n",
       "    <tr>\n",
       "      <th>2396</th>\n",
       "      <td>./Background/train/workplace-00149.jpg</td>\n",
       "      <td>workplace-00149.jpg</td>\n",
       "      <td>2</td>\n",
       "    </tr>\n",
       "    <tr>\n",
       "      <th>2397</th>\n",
       "      <td>./Background/train/workplace_interior_108.durs...</td>\n",
       "      <td>workplace_interior_108.durst_edit-scaled.jpg</td>\n",
       "      <td>0</td>\n",
       "    </tr>\n",
       "    <tr>\n",
       "      <th>2398</th>\n",
       "      <td>./Background/train/workplace_interior_135.deze...</td>\n",
       "      <td>workplace_interior_135.dezeen-awards-2019-the-...</td>\n",
       "      <td>1</td>\n",
       "    </tr>\n",
       "    <tr>\n",
       "      <th>2399</th>\n",
       "      <td>./Background/train/workplace_interior_336.berg...</td>\n",
       "      <td>workplace_interior_336.berglass-021.jpg</td>\n",
       "      <td>0</td>\n",
       "    </tr>\n",
       "  </tbody>\n",
       "</table>\n",
       "<p>2400 rows × 3 columns</p>\n",
       "</div>"
      ],
      "text/plain": [
       "                                                      0  \\\n",
       "0                  ./Background/train/airport-00001.jpg   \n",
       "1                  ./Background/train/airport-00002.jpg   \n",
       "2                  ./Background/train/airport-00005.jpg   \n",
       "3                  ./Background/train/airport-00007.jpg   \n",
       "4                  ./Background/train/airport-00012.jpg   \n",
       "...                                                 ...   \n",
       "2395             ./Background/train/workplace-00146.jpg   \n",
       "2396             ./Background/train/workplace-00149.jpg   \n",
       "2397  ./Background/train/workplace_interior_108.durs...   \n",
       "2398  ./Background/train/workplace_interior_135.deze...   \n",
       "2399  ./Background/train/workplace_interior_336.berg...   \n",
       "\n",
       "                                                   name  label  \n",
       "0                                     airport-00001.jpg      1  \n",
       "1                                     airport-00002.jpg      1  \n",
       "2                                     airport-00005.jpg      1  \n",
       "3                                     airport-00007.jpg      1  \n",
       "4                                     airport-00012.jpg      0  \n",
       "...                                                 ...    ...  \n",
       "2395                                workplace-00146.jpg      0  \n",
       "2396                                workplace-00149.jpg      2  \n",
       "2397       workplace_interior_108.durst_edit-scaled.jpg      0  \n",
       "2398  workplace_interior_135.dezeen-awards-2019-the-...      1  \n",
       "2399            workplace_interior_336.berglass-021.jpg      0  \n",
       "\n",
       "[2400 rows x 3 columns]"
      ]
     },
     "execution_count": 64,
     "metadata": {},
     "output_type": "execute_result"
    }
   ],
   "source": [
    "df\n"
   ]
  },
  {
   "cell_type": "code",
   "execution_count": 65,
   "id": "45290b18-c164-4c84-afbf-8287aa9563e1",
   "metadata": {},
   "outputs": [],
   "source": [
    "df.to_csv('bg_clusters_train.csv')"
   ]
  },
  {
   "cell_type": "code",
   "execution_count": null,
   "id": "6d573eec-cf69-4f3d-8436-1bc5cc348d6f",
   "metadata": {},
   "outputs": [],
   "source": []
  }
 ],
 "metadata": {
  "kernelspec": {
   "display_name": "Python 3 (ipykernel)",
   "language": "python",
   "name": "python3"
  },
  "language_info": {
   "codemirror_mode": {
    "name": "ipython",
    "version": 3
   },
   "file_extension": ".py",
   "mimetype": "text/x-python",
   "name": "python",
   "nbconvert_exporter": "python",
   "pygments_lexer": "ipython3",
   "version": "3.8.8"
  }
 },
 "nbformat": 4,
 "nbformat_minor": 5
}
